{
 "cells": [
  {
   "cell_type": "markdown",
   "metadata": {},
   "source": [
    "# Weka machine learning toolkit\n",
    "\n",
    "* [Download Weka](https://www.cs.waikato.ac.nz/~ml/weka/)\n",
    "* [Data mining with Weka video series](https://www.youtube.com/user/WekaMOOC)\n",
    "\n",
    "# Exercise 6\n",
    "\n",
    "For this exercise you can use either Python with sklearn or Weka.\n",
    "\n",
    "* Using the UCI mushroom dataset from the last exercise, perform a feature selection using a classifier evaluator. Which features are most discriminitave?\n",
    "* Use principal components analysis to construct a reduced space. Which combination of features explain the most variance in the dataset?\n",
    "* Do you see any overlap between the PCA features and those obtained from feature selection?"
   ]
  },
  {
   "cell_type": "code",
   "execution_count": 7,
   "metadata": {},
   "outputs": [
    {
     "name": "stdout",
     "output_type": "stream",
     "text": [
      "(8124, 117)\n",
      "(8124, 2)\n"
     ]
    }
   ],
   "source": [
    "from sklearn.feature_selection import SelectKBest\n",
    "from sklearn.feature_selection import chi2\n",
    "\n",
    "import matplotlib.pyplot as plt\n",
    "import pandas as pd\n",
    "import numpy as np\n",
    "\n",
    "mushroom_data = pd.read_csv('agaricus-lepiota.data')\n",
    "\n",
    "df = pd.DataFrame(mushroom_data)\n",
    "\n",
    "# Target\n",
    "y = pd.get_dummies(mushroom_data['edibility'])\n",
    "\n",
    "# Data\n",
    "x = mushroom_data.drop(['edibility'], axis=1)\n",
    "x = pd.get_dummies(x)\n",
    "\n",
    "print(x.shape)\n",
    "print(y.shape)"
   ]
  },
  {
   "cell_type": "code",
   "execution_count": 3,
   "metadata": {},
   "outputs": [],
   "source": [
    "skb = SelectKBest(chi2, k=5)"
   ]
  }
 ],
 "metadata": {
  "kernelspec": {
   "display_name": "Python 3",
   "language": "python",
   "name": "python3"
  },
  "language_info": {
   "codemirror_mode": {
    "name": "ipython",
    "version": 3
   },
   "file_extension": ".py",
   "mimetype": "text/x-python",
   "name": "python",
   "nbconvert_exporter": "python",
   "pygments_lexer": "ipython3",
   "version": "3.10.8"
  },
  "orig_nbformat": 4
 },
 "nbformat": 4,
 "nbformat_minor": 2
}
