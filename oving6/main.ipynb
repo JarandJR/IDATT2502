{
 "cells": [
  {
   "cell_type": "markdown",
   "metadata": {},
   "source": [
    "# Weka machine learning toolkit\n",
    "\n",
    "* [Download Weka](https://www.cs.waikato.ac.nz/~ml/weka/)\n",
    "* [Data mining with Weka video series](https://www.youtube.com/user/WekaMOOC)\n",
    "\n",
    "# Exercise 6\n",
    "\n",
    "For this exercise you can use either Python with sklearn or Weka.\n",
    "\n",
    "* Using the UCI mushroom dataset from the last exercise, perform a feature selection using a classifier evaluator. Which features are most discriminitave?\n",
    "* Use principal components analysis to construct a reduced space. Which combination of features explain the most variance in the dataset?\n",
    "* Do you see any overlap between the PCA features and those obtained from feature selection?"
   ]
  },
  {
   "cell_type": "code",
   "execution_count": 18,
   "metadata": {},
   "outputs": [
    {
     "name": "stdout",
     "output_type": "stream",
     "text": [
      "x shape (8124, 117)\n",
      "y shape (8124, 2)\n"
     ]
    }
   ],
   "source": [
    "from sklearn.feature_selection import SelectKBest\n",
    "from sklearn.feature_selection import chi2\n",
    "from sklearn import decomposition\n",
    "\n",
    "import matplotlib.pyplot as plt\n",
    "import pandas as pd\n",
    "import numpy as np\n",
    "\n",
    "mushroom_data = pd.read_csv('agaricus-lepiota.data')\n",
    "\n",
    "df = pd.DataFrame(mushroom_data)\n",
    "\n",
    "# Target\n",
    "y = pd.get_dummies(mushroom_data['edibility'])\n",
    "\n",
    "# Data\n",
    "x = mushroom_data.drop(['edibility'], axis=1)\n",
    "x = pd.get_dummies(x)\n",
    "\n",
    "print(f\"x shape {x.shape}\")\n",
    "print(f\"y shape {y.shape}\")"
   ]
  },
  {
   "cell_type": "code",
   "execution_count": 19,
   "metadata": {},
   "outputs": [
    {
     "name": "stdout",
     "output_type": "stream",
     "text": [
      "skb shape (8124, 5)\n",
      "List the top discriminative features\n",
      "- odor_f\n",
      "- odor_n\n",
      "- gill-color_b\n",
      "- stalk-surface-above-ring_k\n",
      "- stalk-surface-below-ring_k\n"
     ]
    }
   ],
   "source": [
    "skb = SelectKBest(chi2, k=5)\n",
    "skb.fit(x, y)\n",
    "x_new = skb.transform(x)\n",
    "\n",
    "print(f\"skb shape {x_new.shape}\")\n",
    "\n",
    "feature_mask = skb.get_support()\n",
    "features = x.columns[feature_mask]\n",
    "\n",
    "print(\"List the top discriminative features\")\n",
    "for f in features:\n",
    "    print(f\"- {f}\")"
   ]
  },
  {
   "cell_type": "code",
   "execution_count": 21,
   "metadata": {},
   "outputs": [
    {
     "name": "stdout",
     "output_type": "stream",
     "text": [
      "Original space: (8124, 117)\n",
      "PCA space: (8124, 5)\n",
      "\n",
      "Most contributing features:\n",
      "- bruises?_f\n",
      "- spore-print-color_h\n",
      "- habitat_g\n",
      "- stalk-shape_t\n",
      "- odor_n\n"
     ]
    }
   ],
   "source": [
    "centers = [[1, 1], [-1, -1], [1, -1]]\n",
    "print(\"Original space:\",x.shape)\n",
    "pca = decomposition.PCA(n_components=5)\n",
    "pca.fit(x)\n",
    "Xpca = pca.transform(x)\n",
    "print(\"PCA space:\",Xpca.shape)\n",
    "\n",
    "feature_names = []\n",
    "print(\"\\nMost contributing features:\")\n",
    "for component in pca.components_:\n",
    "    feature_index = np.argmax(component)\n",
    "    feature_names.append(x.columns[feature_index])\n",
    "    print(f\"- {x.columns[feature_index]}\")"
   ]
  },
  {
   "cell_type": "code",
   "execution_count": 22,
   "metadata": {},
   "outputs": [
    {
     "name": "stdout",
     "output_type": "stream",
     "text": [
      "Overlapping features:\n",
      "- odor_n\n"
     ]
    }
   ],
   "source": [
    "print(\"Overlapping features:\")\n",
    "o_feats = features.intersection(feature_names)\n",
    "for feat in o_feats:\n",
    "    print(f\"- {feat}\")"
   ]
  }
 ],
 "metadata": {
  "kernelspec": {
   "display_name": "Python 3",
   "language": "python",
   "name": "python3"
  },
  "language_info": {
   "codemirror_mode": {
    "name": "ipython",
    "version": 3
   },
   "file_extension": ".py",
   "mimetype": "text/x-python",
   "name": "python",
   "nbconvert_exporter": "python",
   "pygments_lexer": "ipython3",
   "version": "3.10.8"
  },
  "orig_nbformat": 4
 },
 "nbformat": 4,
 "nbformat_minor": 2
}
